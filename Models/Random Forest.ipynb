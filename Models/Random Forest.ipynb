{
 "cells": [
  {
   "cell_type": "code",
   "execution_count": 2,
   "metadata": {
    "autoscroll": false,
    "ein.hycell": false,
    "ein.tags": "worksheet-0",
    "slideshow": {
     "slide_type": "-"
    }
   },
   "outputs": [],
   "source": [
    "#Imports\n",
    "import pandas as pd\n",
    "import matplotlib.pyplot as plt\n",
    "import numpy as np\n",
    "from sklearn.ensemble import RandomForestRegressor \n",
    "from sklearn.model_selection import train_test_split"
   ]
  },
  {
   "cell_type": "code",
   "execution_count": 3,
   "metadata": {
    "autoscroll": false,
    "ein.hycell": false,
    "ein.tags": "worksheet-0",
    "slideshow": {
     "slide_type": "-"
    }
   },
   "outputs": [],
   "source": [
    "#Loading the data with pandas\n",
    "math = pd.read_csv(\"../Data/math.csv\")\n",
    "read = pd.read_csv(\"../Data/read.csv\")\n",
    "business = pd.read_csv(\"../Data/BUSSINES.csv\")\n",
    "geo = pd.read_csv(\"../Data/geo.csv\", low_memory=False)\n",
    "funding = pd.read_csv(\"../Data/FUNDING.csv\")\n",
    "income = pd.read_csv(\"../Data/income.csv\")\n",
    "teachers = pd.read_csv(\"../Data/Teacher Ratios.csv\")\n",
    "title1 = pd.read_csv(\"../Data/title1.csv\")\n",
    "#Set indexs\n",
    "math = math.set_index(\"math_ncessch\")\n",
    "read = read.set_index(\"read_ncessch\")\n",
    "business = business.set_index(\"zip_code\")\n",
    "funding[\"ncesid\"] = pd.to_numeric(funding[\"ncesid\"], errors=\"coerce\")\n",
    "funding = funding.set_index(\"ncesid\")\n",
    "geo = geo.set_index(\"ncessch\")\n",
    "income = income.set_index(\"zipcode\")\n",
    "teachers[\"ncessch\"] = teachers[\"ncessch\"].astype(np.int64)\n",
    "teachers = teachers.set_index(\"ncessch\")\n",
    "title1[\"ncessch\"] = title1[\"ncessch\"].astype(np.int64)\n",
    "title1 = title1.set_index(\"ncessch\")"
   ]
  },
  {
   "cell_type": "code",
   "execution_count": null,
   "metadata": {},
   "outputs": [],
   "source": []
  },
  {
   "cell_type": "code",
   "execution_count": 4,
   "metadata": {},
   "outputs": [],
   "source": [
    "combined = math[['math_leaid','math_all_grades_numvalid','math_all_grades_pctprof_low','math_all_grades_pctprof_high']].join([read[['read_all_grades_numvalid','read_all_grades_pctprof_low','read_all_grades_pctprof_high']],geo[['zip','locale','lat','lon']]], how=\"inner\")\n",
    "combined = combined.join(business[['num_establishments',\"num_paid_employees\", \"first_quarter_payroll\", \"annual_payroll\"]], how=\"inner\", on=\"zip\")\n",
    "combined = combined.join(funding.drop([\"idcensus\",\"name\",\"conum\",\"csa\",\"cbsa\",\"enroll\"],1), how=\"inner\", on=\"math_leaid\")\n",
    "combined = combined.join(income.drop([\"statefips\",'state'], 1), how=\"inner\", on=\"zip\")\n",
    "combined = combined.join(teachers[\"num_full_time\"], how=\"inner\")\n",
    "#combined = combined.join(title1[[\"title_i_status\",\"title_i_eligibility\",\"school_wide_title_i_eligibility\",\"ntnl_school_lunch_program_status\"]], how=\"inner\")\n",
    "combined = combined.drop(['zip','num_paid_employees',\"first_quarter_payroll\", \"annual_payroll\"],1)\n",
    "combined = combined[combined['math_all_grades_pctprof_low'] >=0]\n",
    "combined = combined[combined['read_all_grades_pctprof_low'] >=0]\n",
    "math_y = (combined['math_all_grades_pctprof_low']+combined['math_all_grades_pctprof_high'])/2\n",
    "read_y = (combined['read_all_grades_pctprof_low']+combined['read_all_grades_pctprof_high'])/2\n",
    "math_x = combined.drop([\"math_all_grades_pctprof_low\",\"math_all_grades_pctprof_high\",\"read_all_grades_pctprof_low\",\"read_all_grades_pctprof_high\"],1)\n",
    "read_x = combined.drop([\"math_all_grades_pctprof_low\",\"math_all_grades_pctprof_high\",\"read_all_grades_pctprof_low\",\"read_all_grades_pctprof_high\"],1)"
   ]
  },
  {
   "cell_type": "code",
   "execution_count": 6,
   "metadata": {},
   "outputs": [
    {
     "data": {
      "text/plain": [
       "[0.5,\n",
       " 2.0,\n",
       " 2.5,\n",
       " 4.0,\n",
       " 5.0,\n",
       " 6.0,\n",
       " 3.0,\n",
       " 7.0,\n",
       " 9.0,\n",
       " 10.0,\n",
       " 11.0,\n",
       " 12.0,\n",
       " 13.0,\n",
       " 14.0,\n",
       " 15.0,\n",
       " 16.0,\n",
       " 17.0,\n",
       " 18.0,\n",
       " 19.0,\n",
       " 20.0,\n",
       " 21.0,\n",
       " 22.0,\n",
       " 23.0,\n",
       " 24.0,\n",
       " 25.0,\n",
       " 26.0,\n",
       " 27.0,\n",
       " 28.0,\n",
       " 29.0,\n",
       " 30.0,\n",
       " 31.0,\n",
       " 32.0,\n",
       " 33.0,\n",
       " 34.0,\n",
       " 35.0,\n",
       " 36.0,\n",
       " 37.0,\n",
       " 38.0,\n",
       " 39.0,\n",
       " 40.0,\n",
       " 41.0,\n",
       " 42.0,\n",
       " 43.0,\n",
       " 44.5,\n",
       " 44.0,\n",
       " 46.0,\n",
       " 47.0,\n",
       " 48.0,\n",
       " 49.0,\n",
       " 50.0,\n",
       " 51.0,\n",
       " 52.0,\n",
       " 53.0,\n",
       " 54.0,\n",
       " 55.0,\n",
       " 56.0,\n",
       " 57.0,\n",
       " 58.0,\n",
       " 59.0,\n",
       " 60.0,\n",
       " 61.0,\n",
       " 62.0,\n",
       " 63.0,\n",
       " 64.0,\n",
       " 65.0,\n",
       " 66.0,\n",
       " 67.0,\n",
       " 68.0,\n",
       " 69.0,\n",
       " 70.0,\n",
       " 71.0,\n",
       " 72.0,\n",
       " 73.0,\n",
       " 74.0,\n",
       " 75.0,\n",
       " 76.0,\n",
       " 77.0,\n",
       " 78.0,\n",
       " 79.0,\n",
       " 80.0,\n",
       " 81.0,\n",
       " 82.0,\n",
       " 83.0,\n",
       " 84.0,\n",
       " 85.0,\n",
       " 86.0,\n",
       " 87.0,\n",
       " 84.5,\n",
       " 89.0,\n",
       " 90.0,\n",
       " 91.0,\n",
       " 92.0,\n",
       " 93.0,\n",
       " 94.0,\n",
       " 95.0,\n",
       " 96.0,\n",
       " 97.5,\n",
       " 97.0,\n",
       " 99.5,\n",
       " 98.0,\n",
       " 24.5,\n",
       " 34.5,\n",
       " 8.0,\n",
       " 45.0,\n",
       " 49.5,\n",
       " 54.5,\n",
       " 64.5,\n",
       " 69.5,\n",
       " 74.5,\n",
       " 75.5,\n",
       " 88.0]"
      ]
     },
     "execution_count": 6,
     "metadata": {},
     "output_type": "execute_result"
    }
   ],
   "source": [
    "list(set(math_y))"
   ]
  },
  {
   "cell_type": "code",
   "execution_count": 7,
   "metadata": {
    "autoscroll": false,
    "ein.hycell": false,
    "ein.tags": "worksheet-0",
    "slideshow": {
     "slide_type": "-"
    }
   },
   "outputs": [],
   "source": [
    "math_X_train_val, math_X_test, math_y_train_val, math_y_test = train_test_split(math_x, math_y, test_size = .2, train_size = .8, random_state =42 )\n",
    "math_X_train, math_X_val, math_y_train, math_y_val = train_test_split(math_X_train_val, math_y_train_val, test_size = .3, train_size = .7, random_state =42 )"
   ]
  },
  {
   "cell_type": "code",
   "execution_count": 8,
   "metadata": {
    "autoscroll": false,
    "ein.hycell": false,
    "ein.tags": "worksheet-0",
    "slideshow": {
     "slide_type": "-"
    }
   },
   "outputs": [
    {
     "name": "stdout",
     "output_type": "stream",
     "text": [
      "0.6696004978248256\n"
     ]
    }
   ],
   "source": [
    "#depth = 0\n",
    "#max_score = 0\n",
    "#for i in range(1,20):\n",
    "#    print(\"running with max depth \", i)\n",
    "#    rfr = RandomForestRegressor(n_estimators=100, max_depth=i, random_state=42)\n",
    "#    trained = rfr.fit(math_X_train, math_y_train)\n",
    "#    score = rfr.score(math_X_val, math_y_val)\n",
    "#    print(\"validation score\", score)\n",
    "#    if score > max_score:\n",
    "#        depth = i\n",
    "#        max_score = score\n",
    "rfr = RandomForestRegressor(n_estimators=100, max_depth=19, random_state=42)\n",
    "trained = rfr.fit(math_X_train, math_y_train)\n",
    "print(rfr.score(math_X_test, math_y_test))"
   ]
  },
  {
   "cell_type": "code",
   "execution_count": 11,
   "metadata": {},
   "outputs": [
    {
     "data": {
      "text/plain": [
       "10.09386333753234"
      ]
     },
     "execution_count": 11,
     "metadata": {},
     "output_type": "execute_result"
    }
   ],
   "source": [
    "def calculateDelta(x_test, y_test,estimator):\n",
    "    predictions = np.array(estimator.predict(x_test))\n",
    "    return np.mean(np.absolute(predictions - y_test))\n",
    "calculateDelta(math_X_test, math_y_test, rfr)"
   ]
  },
  {
   "cell_type": "code",
   "execution_count": 14,
   "metadata": {
    "autoscroll": false,
    "ein.hycell": false,
    "ein.tags": "worksheet-0",
    "slideshow": {
     "slide_type": "-"
    }
   },
   "outputs": [
    {
     "data": {
      "text/plain": [
       "array([0.15058525, 0.07122716, 0.03615167, 0.00409731, 0.06020189,\n",
       "       0.0396446 , 0.00562029, 0.0005976 , 0.00135583, 0.00260973,\n",
       "       0.00428746, 0.00263914, 0.00283146, 0.00127622, 0.002011  ,\n",
       "       0.00573749, 0.08313095, 0.0043862 , 0.00173413, 0.00203861,\n",
       "       0.00147058, 0.00047799, 0.00322704, 0.00550529, 0.00376374,\n",
       "       0.00329645, 0.0006818 , 0.00050475, 0.00066513, 0.00087688,\n",
       "       0.00073341, 0.00066024, 0.00097285, 0.0006331 , 0.00150931,\n",
       "       0.00207221, 0.00321168, 0.00113227, 0.00100464, 0.0014554 ,\n",
       "       0.00334837, 0.00674272, 0.00234948, 0.00282615, 0.00139347,\n",
       "       0.00271807, 0.        , 0.05867767, 0.07632806, 0.00357795,\n",
       "       0.00420971, 0.00622212, 0.00606565, 0.00342368, 0.03654697,\n",
       "       0.00278188, 0.00340185, 0.00660621, 0.00269298, 0.00507965,\n",
       "       0.00707661, 0.00572073, 0.00672433, 0.00472433, 0.0050331 ,\n",
       "       0.00582825, 0.00084764, 0.00285752, 0.00401677, 0.00975723,\n",
       "       0.00127024, 0.00252083, 0.00142323, 0.00084762, 0.00142065,\n",
       "       0.00111459, 0.00223375, 0.00259492, 0.00734382, 0.00225357,\n",
       "       0.00670727, 0.00568224, 0.00567631, 0.00228285, 0.00327747,\n",
       "       0.00323821, 0.00842088, 0.00453829, 0.00487129, 0.00085658,\n",
       "       0.00433497, 0.00088132, 0.02610215, 0.00130998, 0.00178221,\n",
       "       0.00594571, 0.03312198, 0.00131093, 0.00194304, 0.00260742,\n",
       "       0.00371952, 0.04476829])"
      ]
     },
     "execution_count": 14,
     "metadata": {},
     "output_type": "execute_result"
    }
   ],
   "source": [
    "rfr.feature_importances_"
   ]
  },
  {
   "cell_type": "code",
   "execution_count": null,
   "metadata": {
    "autoscroll": false,
    "ein.hycell": false,
    "ein.tags": "worksheet-0",
    "slideshow": {
     "slide_type": "-"
    }
   },
   "outputs": [],
   "source": []
  }
 ],
 "metadata": {
  "kernelspec": {
   "display_name": "Python 3",
   "language": "python",
   "name": "python3"
  },
  "language_info": {
   "codemirror_mode": {
    "name": "ipython",
    "version": 3
   },
   "file_extension": ".py",
   "mimetype": "text/x-python",
   "name": "python",
   "nbconvert_exporter": "python",
   "pygments_lexer": "ipython3",
   "version": "3.5.3"
  },
  "name": "Untitled.ipynb"
 },
 "nbformat": 4,
 "nbformat_minor": 2
}
